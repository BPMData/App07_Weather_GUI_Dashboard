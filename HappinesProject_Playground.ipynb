{
 "cells": [
  {
   "cell_type": "code",
   "execution_count": 3,
   "metadata": {
    "collapsed": true,
    "ExecuteTime": {
     "start_time": "2023-07-02T20:05:17.086744Z",
     "end_time": "2023-07-02T20:05:18.660293Z"
    }
   },
   "outputs": [],
   "source": [
    "import pandas as pd\n",
    "import streamlit as st\n",
    "import plotly.express as px"
   ]
  },
  {
   "cell_type": "code",
   "execution_count": 4,
   "outputs": [
    {
     "data": {
      "text/plain": "                  country  happiness   gdp  social_support  life_expectancy  \\\n0                   Niger       5003   570             560              326   \n1              Mozambique       5048   578             660              191   \n2                 Liberia       5122   636             670              309   \n3                  Malawi       3750   648             279              388   \n4                    Chad       4251   662             506              225   \n..                    ...        ...   ...             ...              ...   \n140  United Arab Emirates       6576  1998             980              633   \n141           Switzerland       7512  2026            1226              822   \n142               Ireland       7041  2129            1166              779   \n143             Singapore       6480  2149            1127              851   \n144            Luxembourg       7404  2209            1155              790   \n\n     freedom_to_make_life_choices  generosity  corruption  \n0                             571         165         145  \n1                             593         185         200  \n2                             405         178          80  \n3                             477         140         157  \n4                             180         182          77  \n..                            ...         ...         ...  \n140                           702         204         250  \n141                           677         147         461  \n142                           627         190         408  \n143                           672         163         587  \n144                           700         120         388  \n\n[145 rows x 8 columns]",
      "text/html": "<div>\n<style scoped>\n    .dataframe tbody tr th:only-of-type {\n        vertical-align: middle;\n    }\n\n    .dataframe tbody tr th {\n        vertical-align: top;\n    }\n\n    .dataframe thead th {\n        text-align: right;\n    }\n</style>\n<table border=\"1\" class=\"dataframe\">\n  <thead>\n    <tr style=\"text-align: right;\">\n      <th></th>\n      <th>country</th>\n      <th>happiness</th>\n      <th>gdp</th>\n      <th>social_support</th>\n      <th>life_expectancy</th>\n      <th>freedom_to_make_life_choices</th>\n      <th>generosity</th>\n      <th>corruption</th>\n    </tr>\n  </thead>\n  <tbody>\n    <tr>\n      <th>0</th>\n      <td>Niger</td>\n      <td>5003</td>\n      <td>570</td>\n      <td>560</td>\n      <td>326</td>\n      <td>571</td>\n      <td>165</td>\n      <td>145</td>\n    </tr>\n    <tr>\n      <th>1</th>\n      <td>Mozambique</td>\n      <td>5048</td>\n      <td>578</td>\n      <td>660</td>\n      <td>191</td>\n      <td>593</td>\n      <td>185</td>\n      <td>200</td>\n    </tr>\n    <tr>\n      <th>2</th>\n      <td>Liberia</td>\n      <td>5122</td>\n      <td>636</td>\n      <td>670</td>\n      <td>309</td>\n      <td>405</td>\n      <td>178</td>\n      <td>80</td>\n    </tr>\n    <tr>\n      <th>3</th>\n      <td>Malawi</td>\n      <td>3750</td>\n      <td>648</td>\n      <td>279</td>\n      <td>388</td>\n      <td>477</td>\n      <td>140</td>\n      <td>157</td>\n    </tr>\n    <tr>\n      <th>4</th>\n      <td>Chad</td>\n      <td>4251</td>\n      <td>662</td>\n      <td>506</td>\n      <td>225</td>\n      <td>180</td>\n      <td>182</td>\n      <td>77</td>\n    </tr>\n    <tr>\n      <th>...</th>\n      <td>...</td>\n      <td>...</td>\n      <td>...</td>\n      <td>...</td>\n      <td>...</td>\n      <td>...</td>\n      <td>...</td>\n      <td>...</td>\n    </tr>\n    <tr>\n      <th>140</th>\n      <td>United Arab Emirates</td>\n      <td>6576</td>\n      <td>1998</td>\n      <td>980</td>\n      <td>633</td>\n      <td>702</td>\n      <td>204</td>\n      <td>250</td>\n    </tr>\n    <tr>\n      <th>141</th>\n      <td>Switzerland</td>\n      <td>7512</td>\n      <td>2026</td>\n      <td>1226</td>\n      <td>822</td>\n      <td>677</td>\n      <td>147</td>\n      <td>461</td>\n    </tr>\n    <tr>\n      <th>142</th>\n      <td>Ireland</td>\n      <td>7041</td>\n      <td>2129</td>\n      <td>1166</td>\n      <td>779</td>\n      <td>627</td>\n      <td>190</td>\n      <td>408</td>\n    </tr>\n    <tr>\n      <th>143</th>\n      <td>Singapore</td>\n      <td>6480</td>\n      <td>2149</td>\n      <td>1127</td>\n      <td>851</td>\n      <td>672</td>\n      <td>163</td>\n      <td>587</td>\n    </tr>\n    <tr>\n      <th>144</th>\n      <td>Luxembourg</td>\n      <td>7404</td>\n      <td>2209</td>\n      <td>1155</td>\n      <td>790</td>\n      <td>700</td>\n      <td>120</td>\n      <td>388</td>\n    </tr>\n  </tbody>\n</table>\n<p>145 rows × 8 columns</p>\n</div>"
     },
     "execution_count": 4,
     "metadata": {},
     "output_type": "execute_result"
    }
   ],
   "source": [
    "df = pd.read_csv(\"C:\\PythonProjects\\App07_Weather_GUI_Dashboard\\data\\happy.csv\")\n",
    "df"
   ],
   "metadata": {
    "collapsed": false,
    "ExecuteTime": {
     "start_time": "2023-07-02T20:05:18.663286Z",
     "end_time": "2023-07-02T20:05:18.755166Z"
    }
   }
  },
  {
   "cell_type": "code",
   "execution_count": 8,
   "outputs": [
    {
     "data": {
      "text/plain": "0                     Niger\n1                Mozambique\n2                   Liberia\n3                    Malawi\n4                      Chad\n               ...         \n140    United Arab Emirates\n141             Switzerland\n142                 Ireland\n143               Singapore\n144              Luxembourg\nName: country, Length: 145, dtype: object"
     },
     "execution_count": 8,
     "metadata": {},
     "output_type": "execute_result"
    }
   ],
   "source": [
    "df[\"country\"]"
   ],
   "metadata": {
    "collapsed": false,
    "ExecuteTime": {
     "start_time": "2023-07-02T20:27:06.383538Z",
     "end_time": "2023-07-02T20:27:06.389539Z"
    }
   }
  }
 ],
 "metadata": {
  "kernelspec": {
   "display_name": "Python 3",
   "language": "python",
   "name": "python3"
  },
  "language_info": {
   "codemirror_mode": {
    "name": "ipython",
    "version": 2
   },
   "file_extension": ".py",
   "mimetype": "text/x-python",
   "name": "python",
   "nbconvert_exporter": "python",
   "pygments_lexer": "ipython2",
   "version": "2.7.6"
  }
 },
 "nbformat": 4,
 "nbformat_minor": 0
}
